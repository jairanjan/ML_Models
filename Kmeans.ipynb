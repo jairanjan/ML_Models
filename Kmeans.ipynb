{
 "cells": [
  {
   "cell_type": "code",
   "execution_count": 3,
   "id": "9428df77-0cdb-44de-bed1-6178322c4e87",
   "metadata": {},
   "outputs": [],
   "source": [
    "import pandas as pd\n",
    "import numpy as np\n",
    "from lightgbm import LGBMClassifier"
   ]
  },
  {
   "cell_type": "code",
   "execution_count": 57,
   "id": "4af6b373-7b75-41a8-b10c-a21450160fc8",
   "metadata": {},
   "outputs": [],
   "source": [
    "import matplotlib.pyplot as plt"
   ]
  },
  {
   "cell_type": "code",
   "execution_count": 11,
   "id": "68e5b3ae-d607-4eb9-9caa-f9b942c49ccb",
   "metadata": {},
   "outputs": [],
   "source": [
    "from sklearn.linear_model import LogisticRegression\n",
    "from sklearn.metrics import roc_auc_score, f1_score, accuracy_score, recall_score, precision_score"
   ]
  },
  {
   "cell_type": "code",
   "execution_count": 15,
   "id": "de22302f-2152-4469-8eeb-7ab9fb4b8c3c",
   "metadata": {},
   "outputs": [],
   "source": [
    "# Feature selection \n",
    "from sklearn.feature_selection import RFE"
   ]
  },
  {
   "cell_type": "code",
   "execution_count": 17,
   "id": "ced41ae4-ece5-45b4-b8bb-cfac7da2d076",
   "metadata": {},
   "outputs": [],
   "source": [
    "# Train , test split\n",
    "from sklearn.model_selection import train_test_split,cross_val_score"
   ]
  },
  {
   "cell_type": "code",
   "execution_count": 25,
   "id": "e38ff4e1-dec4-4dde-9445-18784e666daf",
   "metadata": {},
   "outputs": [],
   "source": [
    "#data=pd.read_csv(\"predict_user_app_deletion.csv\")"
   ]
  },
  {
   "cell_type": "code",
   "execution_count": 27,
   "id": "99039ca2-c154-49d1-89a4-bfd008e50efa",
   "metadata": {},
   "outputs": [],
   "source": [
    "from sklearn.datasets import fetch_california_housing"
   ]
  },
  {
   "cell_type": "code",
   "execution_count": 29,
   "id": "9f79d3a4-9a6c-474f-a9b1-b24dbb4ccf7b",
   "metadata": {},
   "outputs": [],
   "source": [
    "data=fetch_california_housing()"
   ]
  },
  {
   "cell_type": "code",
   "execution_count": 47,
   "id": "fce4bc84-3852-4155-9701-04a66808eb38",
   "metadata": {},
   "outputs": [],
   "source": [
    "#data"
   ]
  },
  {
   "cell_type": "code",
   "execution_count": 43,
   "id": "20f36fbc-bf42-45f5-8207-b6a77f3f9b80",
   "metadata": {},
   "outputs": [],
   "source": [
    "df=pd.DataFrame(data['data'],columns=data['feature_names'])\n",
    "df['MedHouseVal']=data['target']"
   ]
  },
  {
   "cell_type": "code",
   "execution_count": 49,
   "id": "e9fa46b8-91a9-4bb0-a427-4682a3dc2a57",
   "metadata": {},
   "outputs": [],
   "source": [
    "df['MedHouseVal_gt_250k']=df['MedHouseVal'].apply(lambda x:1 if x > 2.5 else 0)"
   ]
  },
  {
   "cell_type": "code",
   "execution_count": 51,
   "id": "25cbe585-7d59-4acb-aace-e092965ee512",
   "metadata": {},
   "outputs": [
    {
     "data": {
      "text/plain": [
       "(20640, 10)"
      ]
     },
     "execution_count": 51,
     "metadata": {},
     "output_type": "execute_result"
    }
   ],
   "source": [
    "df.shape"
   ]
  },
  {
   "cell_type": "code",
   "execution_count": 63,
   "id": "cec0a7de-9971-4889-9345-101cb46cb74a",
   "metadata": {},
   "outputs": [
    {
     "name": "stdout",
     "output_type": "stream",
     "text": [
      "30.30646920634921\n",
      "235.98462594024605\n",
      "48.75522418079096\n",
      "54.509445616438356\n",
      "55.04126015444016\n"
     ]
    }
   ],
   "source": [
    "# Implement K means clusetting for AveRoomes,Population, Ave Occup\n",
    "for point in df.head(5).values:\n",
    "    print(point.mean())"
   ]
  },
  {
   "cell_type": "code",
   "execution_count": 97,
   "id": "717c0708-2ae2-47ea-9022-3df9b0c2b469",
   "metadata": {},
   "outputs": [],
   "source": [
    "def initialize_centroids(X,k):\n",
    "    \"\"\"\n",
    "    Rondomaly intilze k centroids  from the datasets\n",
    "    \"\"\"\n",
    "    indices=np.random.choice(X.shape[0],k, replace=False)\n",
    "\n",
    "    return X[indices]\n",
    "\n",
    "def assign_clusters(X, centroids):\n",
    "\n",
    "    \"Assign each data point in X to the nearest centroid\"\n",
    "\n",
    "    clusters=[]\n",
    "\n",
    "    for point in X:\n",
    "        distances= [np.linalg.norm(point-centroid) for centroid in centroids]\n",
    "        clusters.append(np.argmin(distances))\n",
    "\n",
    "    return np.array(clusters)\n",
    "\n",
    "def update_centroids(X,clusters,k):\n",
    "\n",
    "    new_centroids=[]\n",
    "    for i in range(k):\n",
    "        cluster_points=X[clusters==i]\n",
    "        if len(cluster_points)==0:\n",
    "            new_centroid= X[np.random.randint(0,X.shape[0])]\n",
    "        else:\n",
    "            new_centroid=np.mean(cluster_points, axis=0)\n",
    "        new_centroids.append(new_centroid)\n",
    "\n",
    "    return np.array(new_centroids)\n",
    "\n",
    "def k_means(X,k,max_iters=1000,tol=1e-4):\n",
    "    centroids=initialize_centroids(X,k)\n",
    " \n",
    "    for i in range(max_iters):\n",
    "\n",
    "        clusters =assign_clusters(X,centroids)\n",
    "        new_centroids= update_centroids(X,clusters,k)\n",
    "\n",
    "        if np.all(np.linalg.norm(new_centroids-centroids,axis=1) < tol ):\n",
    "            print(f\"converged after  {i+1} iterations\")\n",
    "            break\n",
    "\n",
    "        centroids =new_centroids\n",
    "\n",
    "    return clusters, centroids"
   ]
  },
  {
   "cell_type": "code",
   "execution_count": 99,
   "id": "6939effb-9ae1-4f27-b433-783ce38ecf94",
   "metadata": {},
   "outputs": [
    {
     "data": {
      "text/plain": [
       "Index(['MedInc', 'HouseAge', 'AveRooms', 'AveBedrms', 'Population', 'AveOccup',\n",
       "       'Latitude', 'Longitude', 'MedHouseVal', 'MedHouseVal_gt_250k'],\n",
       "      dtype='object')"
      ]
     },
     "execution_count": 99,
     "metadata": {},
     "output_type": "execute_result"
    }
   ],
   "source": [
    "df.columns"
   ]
  },
  {
   "cell_type": "code",
   "execution_count": 101,
   "id": "239f1464-cc4a-431d-b837-fc0277602909",
   "metadata": {},
   "outputs": [
    {
     "name": "stdout",
     "output_type": "stream",
     "text": [
      "converged after  39 iterations\n"
     ]
    }
   ],
   "source": [
    "X = df[['MedInc', 'HouseAge', 'AveRooms', 'AveBedrms', 'Population', 'AveOccup','Latitude', 'Longitude']].values\n",
    "\n",
    "# Set the number of clusters\n",
    "k = 4  # adjust as needed\n",
    "\n",
    "# Run k-means clustering on the dataset with 4 features\n",
    "clusters, centroids = k_means(X, k)"
   ]
  },
  {
   "cell_type": "markdown",
   "id": "b6714dfb-ef9d-405b-a68c-c65e6aea1753",
   "metadata": {},
   "source": [
    "# Choosing Optimum Number of Clusters"
   ]
  },
  {
   "cell_type": "code",
   "execution_count": 119,
   "id": "68c762b7-02cd-4755-8dc7-76884795bd5e",
   "metadata": {},
   "outputs": [
    {
     "name": "stdout",
     "output_type": "stream",
     "text": [
      "converged after  20 iterations\n",
      "converged after  28 iterations\n",
      "converged after  38 iterations\n",
      "converged after  66 iterations\n",
      "converged after  95 iterations\n",
      "converged after  88 iterations\n",
      "converged after  113 iterations\n",
      "converged after  125 iterations\n",
      "converged after  220 iterations\n"
     ]
    },
    {
     "data": {
      "image/png": "[encoded data removed]",
      "text/plain": [
       "<Figure size 800x500 with 1 Axes>"
      ]
     },
     "metadata": {},
     "output_type": "display_data"
    }
   ],
   "source": [
    "# Range of cluster numbers to try\n",
    "k_range = range(2, 11)  # for example, trying 2 to 10 clusters\n",
    "inertias = []\n",
    "\n",
    "for k in k_range:\n",
    "    clusters, centroids = k_means(X, k)\n",
    "    inertia = 0\n",
    "    for i, centroid in enumerate(centroids):\n",
    "        # Sum the squared distances for each point in the cluster\n",
    "        inertia += np.sum(np.linalg.norm(X[clusters == i] - centroid, axis=1) ** 2)\n",
    "    inertias.append(inertia)\n",
    "\n",
    "plt.figure(figsize=(8, 5))\n",
    "plt.plot(k_range, inertias, marker='o')\n",
    "plt.title('Elbow Method')\n",
    "plt.xlabel('Number of Clusters (k)')\n",
    "plt.ylabel('Inertia (SSE)')\n",
    "plt.show()"
   ]
  },
  {
   "cell_type": "code",
   "execution_count": 124,
   "id": "581589c3-6828-4252-ba2a-9b940b319254",
   "metadata": {},
   "outputs": [
    {
     "name": "stdout",
     "output_type": "stream",
     "text": [
      "converged after  21 iterations\n",
      "converged after  17 iterations\n",
      "converged after  45 iterations\n",
      "converged after  66 iterations\n",
      "converged after  93 iterations\n",
      "converged after  102 iterations\n",
      "converged after  109 iterations\n",
      "converged after  112 iterations\n",
      "converged after  198 iterations\n"
     ]
    },
    {
     "data": {
      "image/png": "[encoded data removed]",
      "text/plain": [
       "<Figure size 800x500 with 1 Axes>"
      ]
     },
     "metadata": {},
     "output_type": "display_data"
    }
   ],
   "source": [
    "# Can Also be determiend using silhoutte Analysis\n",
    "\"\"\"\n",
    "The silhouette score measures how similar a point is to its own cluster compared to other clusters.\n",
    "Scores range from -1 to 1, with higher values indicating better clustering.\n",
    "You compute the silhouette score for different k values and choose the one with the highest score.\n",
    "\"\"\"\n",
    "\n",
    "from sklearn.metrics import silhouette_score\n",
    "\n",
    "silhouette_scores = []\n",
    "\n",
    "for k in k_range:\n",
    "    clusters, centroids = k_means(X, k)\n",
    "    score = silhouette_score(X, clusters)\n",
    "    silhouette_scores.append(score)\n",
    "\n",
    "plt.figure(figsize=(8, 5))\n",
    "plt.plot(k_range, silhouette_scores, marker='o', color='green')\n",
    "plt.title('Silhouette Scores for Different k')\n",
    "plt.xlabel('Number of Clusters (k)')\n",
    "plt.ylabel('Silhouette Score')\n",
    "plt.show()"
   ]
  },
  {
   "cell_type": "code",
   "execution_count": 132,
   "id": "e524660c-e630-421a-bde1-38c91996cbdc",
   "metadata": {},
   "outputs": [
    {
     "data": {
      "text/plain": [
       "array([[   8.3014    ,   21.        ,    6.23813708, ...,    2.10984183,\n",
       "          37.86      , -122.22      ],\n",
       "       [   2.4912    ,   29.        ,    3.7248    , ...,    1.8432    ,\n",
       "          37.81      , -122.25      ],\n",
       "       [   3.2177    ,   28.        ,    3.87842351, ...,    1.71209085,\n",
       "          37.81      , -122.25      ],\n",
       "       ...,\n",
       "       [   4.1997    ,   17.        ,    5.73275862, ...,    3.08836207,\n",
       "          38.66      , -121.76      ],\n",
       "       [   3.4186    ,    6.        ,    5.66256158, ...,    3.15394089,\n",
       "          38.53      , -121.99      ],\n",
       "       [   1.3375    ,   18.        ,    4.56762513, ...,    2.8828541 ,\n",
       "          39.13      , -121.54      ]])"
      ]
     },
     "execution_count": 132,
     "metadata": {},
     "output_type": "execute_result"
    }
   ],
   "source": [
    "X[clusters==3]"
   ]
  },
  {
   "cell_type": "code",
   "execution_count": null,
   "id": "a29bafca-aa68-4c9a-a694-bf32e2d0ad65",
   "metadata": {},
   "outputs": [],
   "source": []
  }
 ],
 "metadata": {
  "kernelspec": {
   "display_name": "Python 3 (ipykernel)",
   "language": "python",
   "name": "python3"
  },
  "language_info": {
   "codemirror_mode": {
    "name": "ipython",
    "version": 3
   },
   "file_extension": ".py",
   "mimetype": "text/x-python",
   "name": "python",
   "nbconvert_exporter": "python",
   "pygments_lexer": "ipython3",
   "version": "3.12.4"
  }
 },
 "nbformat": 4,
 "nbformat_minor": 5
}
