{
 "cells": [
  {
   "cell_type": "code",
   "execution_count": 1,
   "id": "b8b18b5d-100f-41b0-bba6-a5e76bb4587e",
   "metadata": {},
   "outputs": [],
   "source": [
    "import numpy as np\n",
    "import pandas as pd\n",
    "import matplotlib.pyplot as plt\n",
    "import statsmodels.formula.api as smf\n",
    "from sklearn.utils import resample"
   ]
  },
  {
   "cell_type": "code",
   "execution_count": 7,
   "id": "40abc5c8-a6e2-44e5-b411-c3a80be688c5",
   "metadata": {},
   "outputs": [],
   "source": [
    "np.random.seed(42)"
   ]
  },
  {
   "cell_type": "code",
   "execution_count": 9,
   "id": "119da51e-1525-4449-9a98-c4f9c9f8deab",
   "metadata": {},
   "outputs": [],
   "source": [
    "n=50\n",
    "cutoff_day=25\n",
    "days=np.arange(1,n+1)"
   ]
  },
  {
   "cell_type": "code",
   "execution_count": 15,
   "id": "bd61eb53-18e2-4cdb-a893-b2ebad97c9e6",
   "metadata": {},
   "outputs": [],
   "source": [
    "outcome= np.where(\n",
    "    days < cutoff_day,\n",
    "    50 + 0.3*days + np.random.normal(0,3,n),\n",
    "    50 + 0.3 * days +19 + np.random.normal(0,3,n)\n",
    ")"
   ]
  },
  {
   "cell_type": "code",
   "execution_count": 17,
   "id": "dec6a10c-ff2c-4296-99d6-f27a051bacdc",
   "metadata": {},
   "outputs": [],
   "source": [
    "# Create dataframe\n",
    "df=pd.DataFrame( { 'day':days,\n",
    "                  'running_var': days-cutoff_day, # Centered running variable\n",
    "                   'post': (days >= cutoff_day).astype(int),\n",
    "                  'outcome':outcome})"
   ]
  },
  {
   "cell_type": "code",
   "execution_count": 19,
   "id": "11f47fa9-0142-4805-9b86-42536643d195",
   "metadata": {},
   "outputs": [],
   "source": [
    "model = smf.ols('outcome ~ running_var + post',data=df).fit()\n",
    "treatment_effect=model.params['post']\n",
    "ci=model.conf_int().loc['post']"
   ]
  },
  {
   "cell_type": "code",
   "execution_count": 21,
   "id": "eb083127-9e03-4d08-bd46-d23ca59557a2",
   "metadata": {},
   "outputs": [
    {
     "data": {
      "text/plain": [
       "0    16.947867\n",
       "1    23.324704\n",
       "Name: post, dtype: float64"
      ]
     },
     "execution_count": 21,
     "metadata": {},
     "output_type": "execute_result"
    }
   ],
   "source": [
    "ci"
   ]
  },
  {
   "cell_type": "code",
   "execution_count": 23,
   "id": "a676b8c9-9a84-4d56-bd56-3e93893d077d",
   "metadata": {},
   "outputs": [
    {
     "data": {
      "text/plain": [
       "20.136285618871867"
      ]
     },
     "execution_count": 23,
     "metadata": {},
     "output_type": "execute_result"
    }
   ],
   "source": [
    "treatment_effect"
   ]
  },
  {
   "cell_type": "code",
   "execution_count": 25,
   "id": "cf526de0-910d-4752-a040-14deb815587d",
   "metadata": {},
   "outputs": [
    {
     "name": "stdout",
     "output_type": "stream",
     "text": [
      "                            OLS Regression Results                            \n",
      "==============================================================================\n",
      "Dep. Variable:                outcome   R-squared:                       0.960\n",
      "Model:                            OLS   Adj. R-squared:                  0.958\n",
      "Method:                 Least Squares   F-statistic:                     565.0\n",
      "Date:                Sat, 22 Mar 2025   Prob (F-statistic):           1.35e-33\n",
      "Time:                        13:38:42   Log-Likelihood:                -120.96\n",
      "No. Observations:                  50   AIC:                             247.9\n",
      "Df Residuals:                      47   BIC:                             253.7\n",
      "Df Model:                           2                                         \n",
      "Covariance Type:            nonrobust                                         \n",
      "===============================================================================\n",
      "                  coef    std err          t      P>|t|      [0.025      0.975]\n",
      "-------------------------------------------------------------------------------\n",
      "Intercept      56.4575      0.893     63.195      0.000      54.660      58.255\n",
      "running_var     0.2520      0.055      4.593      0.000       0.142       0.362\n",
      "post           20.1363      1.585     12.705      0.000      16.948      23.325\n",
      "==============================================================================\n",
      "Omnibus:                        3.353   Durbin-Watson:                   1.871\n",
      "Prob(Omnibus):                  0.187   Jarque-Bera (JB):                2.321\n",
      "Skew:                          -0.465   Prob(JB):                        0.313\n",
      "Kurtosis:                       3.500   Cond. No.                         65.0\n",
      "==============================================================================\n",
      "\n",
      "Notes:\n",
      "[1] Standard Errors assume that the covariance matrix of the errors is correctly specified.\n"
     ]
    }
   ],
   "source": [
    "print(model.summary())"
   ]
  },
  {
   "cell_type": "code",
   "execution_count": 35,
   "id": "3744d521-c343-4a0c-a56e-c64c01858b36",
   "metadata": {},
   "outputs": [],
   "source": [
    "# Calculate bootsrtap CI for the treatment effect\n",
    "effect_boot=[]\n",
    "for i in range(1000):\n",
    "    sample=resample(df) # can use sample as well\n",
    "    model=smf.ols('outcome ~ running_var + post',data=sample).fit()\n",
    "    effect_boot.append(model.params['post'])"
   ]
  },
  {
   "cell_type": "code",
   "execution_count": 36,
   "id": "3cd88651-5a09-44aa-a526-46a75370efd8",
   "metadata": {},
   "outputs": [
    {
     "data": {
      "text/plain": [
       "array([16.47086797, 20.18644067, 23.7089848 ])"
      ]
     },
     "execution_count": 36,
     "metadata": {},
     "output_type": "execute_result"
    }
   ],
   "source": [
    "bootstrap_ci=np.percentile(effect_boot,[2.5,50,97.5])\n",
    "bootstrap_ci"
   ]
  },
  {
   "cell_type": "code",
   "execution_count": 51,
   "id": "0e011d4a-75b6-4c8b-af50-70c49095052a",
   "metadata": {},
   "outputs": [
    {
     "data": {
      "image/png": "[encoded data removed]",
      "text/plain": [
       "<Figure size 640x480 with 1 Axes>"
      ]
     },
     "metadata": {},
     "output_type": "display_data"
    }
   ],
   "source": [
    "plt.hist(effect_boot)\n",
    "plt.axvline(bootstrap_ci[0],color='red')\n",
    "plt.axvline(bootstrap_ci[2],color='red')\n",
    "plt.show()"
   ]
  },
  {
   "cell_type": "code",
   "execution_count": 53,
   "id": "a8c67f29-f393-4412-b4f3-c6ea1a8fb074",
   "metadata": {},
   "outputs": [],
   "source": [
    "# Different ways to sample a dataframe"
   ]
  },
  {
   "cell_type": "code",
   "execution_count": null,
   "id": "372d3b14-d0dc-472d-8ea1-2ffcc93e5b2d",
   "metadata": {},
   "outputs": [],
   "source": []
  },
  {
   "cell_type": "code",
   "execution_count": null,
   "id": "aeda560e-3b6c-4f90-98a6-d6303e0e544b",
   "metadata": {},
   "outputs": [],
   "source": []
  },
  {
   "cell_type": "code",
   "execution_count": null,
   "id": "dd2025a8-c9fa-4459-9d0e-3126063e85ab",
   "metadata": {},
   "outputs": [],
   "source": []
  },
  {
   "cell_type": "code",
   "execution_count": null,
   "id": "010a055b-1522-4153-89aa-460343c809e3",
   "metadata": {},
   "outputs": [],
   "source": []
  }
 ],
 "metadata": {
  "kernelspec": {
   "display_name": "Python 3 (ipykernel)",
   "language": "python",
   "name": "python3"
  },
  "language_info": {
   "codemirror_mode": {
    "name": "ipython",
    "version": 3
   },
   "file_extension": ".py",
   "mimetype": "text/x-python",
   "name": "python",
   "nbconvert_exporter": "python",
   "pygments_lexer": "ipython3",
   "version": "3.12.4"
  }
 },
 "nbformat": 4,
 "nbformat_minor": 5
}
